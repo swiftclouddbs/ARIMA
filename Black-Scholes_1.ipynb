{
 "cells": [
  {
   "cell_type": "code",
   "execution_count": 5,
   "id": "2c8def41-5b22-4c43-bd2a-9c467ddf468e",
   "metadata": {},
   "outputs": [],
   "source": [
    "#pip install yfinance pandas numpy requests"
   ]
  },
  {
   "cell_type": "code",
   "execution_count": 1,
   "id": "7f1e7640-b26f-4bab-b1ef-d65b363dc246",
   "metadata": {
    "jupyter": {
     "source_hidden": true
    }
   },
   "outputs": [
    {
     "name": "stdout",
     "output_type": "stream",
     "text": [
      "\n",
      "🔹 Real-World Option Data for Black–Scholes Model:\n",
      "Stock Price (S): 237.3000030517578\n",
      "Strike Price (K): 237.5\n",
      "Time to Maturity (T) (years): 0.0\n",
      "Risk-Free Rate (r): 0.02\n",
      "Implied Volatility (σ): 0.3789124609375\n",
      "Option Price: 1.68\n",
      "Expiration Date: 2025-02-28\n"
     ]
    }
   ],
   "source": [
    "import yfinance as yf\n",
    "import pandas as pd\n",
    "import numpy as np\n",
    "import requests\n",
    "from datetime import datetime, timedelta\n",
    "\n",
    "def get_risk_free_rate():\n",
    "    \"\"\"Fetches the 10-year Treasury yield as a proxy for the risk-free rate.\"\"\"\n",
    "    try:\n",
    "        url = \"https://api.stlouisfed.org/fred/series/observations?series_id=DGS10&api_key=YOUR_API_KEY&file_type=json\"\n",
    "        response = requests.get(url).json()\n",
    "        rate = float(response[\"observations\"][-1][\"value\"]) / 100  # Convert from % to decimal\n",
    "        return rate\n",
    "    except:\n",
    "        return 0.02  # Default to 2% if API fails\n",
    "\n",
    "def fetch_options_data(ticker):\n",
    "    \"\"\"Fetches real-time options data for the given stock ticker from Yahoo Finance.\"\"\"\n",
    "    stock = yf.Ticker(ticker)\n",
    "    current_price = stock.history(period=\"1d\")[\"Close\"].iloc[-1]\n",
    "    \n",
    "    # Get first available expiration date\n",
    "    expiry_dates = stock.options\n",
    "    if not expiry_dates:\n",
    "        print(f\"No options available for {ticker}\")\n",
    "        return None\n",
    "    \n",
    "    expiry = expiry_dates[0]  # Earliest expiration date\n",
    "    options_chain = stock.option_chain(expiry)\n",
    "    \n",
    "    # Select a near-the-money call option\n",
    "    calls = options_chain.calls\n",
    "    calls[\"moneyness\"] = abs(calls[\"strike\"] - current_price)\n",
    "    selected_call = calls.nsmallest(1, \"moneyness\").iloc[0]\n",
    "    \n",
    "    # Compute time to maturity (T) in years\n",
    "    expiry_date = datetime.strptime(expiry, \"%Y-%m-%d\")\n",
    "    today = datetime.today()\n",
    "    T = (expiry_date - today).days / 365.0  # Convert days to years\n",
    "    \n",
    "    # Get risk-free rate\n",
    "    r = get_risk_free_rate()\n",
    "    \n",
    "    # Extract required parameters\n",
    "    option_data = {\n",
    "        \"Stock Price (S)\": current_price,\n",
    "        \"Strike Price (K)\": selected_call[\"strike\"],\n",
    "        \"Time to Maturity (T) (years)\": T,\n",
    "        \"Risk-Free Rate (r)\": r,\n",
    "        \"Implied Volatility (σ)\": selected_call[\"impliedVolatility\"],\n",
    "        \"Option Price\": selected_call[\"lastPrice\"],\n",
    "        \"Expiration Date\": expiry\n",
    "    }\n",
    "    \n",
    "    return option_data\n",
    "\n",
    "# Example Usage\n",
    "ticker = \"AAPL\"  # Change to any stock symbol\n",
    "option_data = fetch_options_data(ticker)\n",
    "\n",
    "if option_data:\n",
    "    print(\"\\n🔹 Real-World Option Data for Black–Scholes Model:\")\n",
    "    for key, value in option_data.items():\n",
    "        print(f\"{key}: {value}\")\n",
    "        \n",
    "## If T = 0 you need to pick a value for it"
   ]
  },
  {
   "cell_type": "code",
   "execution_count": 2,
   "id": "0ccd1d7d-83ec-48f6-a8b3-5c2fe5abeacf",
   "metadata": {
    "jupyter": {
     "source_hidden": true
    }
   },
   "outputs": [
    {
     "name": "stdout",
     "output_type": "stream",
     "text": [
      "\n",
      "🔹 Black–Scholes Model Results Using Real-World Data:\n",
      "Price: 13.924186706542969\n",
      "Delta: 0.5347752571105957\n",
      "Gamma: 0.011579671874642372\n",
      "Vega: 32.55378723144531\n",
      "Theta: -59.57224655151367\n",
      "Rho: 13.453926086425781\n"
     ]
    }
   ],
   "source": [
    "import tensorflow as tf\n",
    "import tensorflow_probability as tfp\n",
    "\n",
    "# Standard Normal CDF\n",
    "normal = tfp.distributions.Normal(loc=0.0, scale=1.0)\n",
    "\n",
    "def compute_greeks(S, K, T, r, sigma, option_type=\"call\"):\n",
    "    \"\"\"Compute Black-Scholes price and Greeks (Delta, Gamma, Vega, Theta, Rho).\"\"\"\n",
    "\n",
    "    T = tf.maximum(T, 1e-6)  # Avoid division by zero\n",
    "    d1 = (tf.math.log(S / K) + (r + 0.5 * sigma ** 2) * T) / (sigma * tf.sqrt(T))\n",
    "    d2 = d1 - sigma * tf.sqrt(T)\n",
    "\n",
    "    # Standard normal probabilities\n",
    "    N_d1 = normal.cdf(d1)\n",
    "    N_d2 = normal.cdf(d2)\n",
    "\n",
    "    # Greeks calculations\n",
    "    price = None\n",
    "    delta = None\n",
    "    gamma = normal.prob(d1) / (S * sigma * tf.sqrt(T))\n",
    "    vega = S * normal.prob(d1) * tf.sqrt(T)\n",
    "    theta = None\n",
    "    rho = None\n",
    "\n",
    "    if option_type == \"call\":\n",
    "        price = S * N_d1 - K * tf.exp(-r * T) * N_d2\n",
    "        delta = N_d1\n",
    "        theta = (-S * normal.prob(d1) * sigma / (2 * tf.sqrt(T))) - r * K * tf.exp(-r * T) * N_d2\n",
    "        rho = K * T * tf.exp(-r * T) * N_d2\n",
    "    elif option_type == \"put\":\n",
    "        price = K * tf.exp(-r * T) * (1 - N_d2) - S * (1 - N_d1)\n",
    "        delta = N_d1 - 1\n",
    "        theta = (-S * normal.prob(d1) * sigma / (2 * tf.sqrt(T))) + r * K * tf.exp(-r * T) * (1 - N_d2)\n",
    "        rho = -K * T * tf.exp(-r * T) * (1 - N_d2)\n",
    "\n",
    "    return {\n",
    "        \"Price\": price.numpy(),\n",
    "        \"Delta\": delta.numpy(),\n",
    "        \"Gamma\": gamma.numpy(),\n",
    "        \"Vega\": vega.numpy(),\n",
    "        \"Theta\": theta.numpy(),\n",
    "        \"Rho\": rho.numpy()\n",
    "    }\n",
    "\n",
    "# Example values (Replace these with real-world data)\n",
    "S = 237.45  # Stock price\n",
    "K = 237.5   # Strike price\n",
    "T = 0.119   # Time to expiration in years\n",
    "r = 0.02    # Risk-free interest rate\n",
    "sigma = 0.419  # Implied volatility\n",
    "\n",
    "# Compute Greeks\n",
    "greeks = compute_greeks(S, K, T, r, sigma, option_type=\"call\")\n",
    "\n",
    "print(\"\\n🔹 Black–Scholes Model Results Using Real-World Data:\")\n",
    "for key, value in greeks.items():\n",
    "    print(f\"{key}: {value}\")"
   ]
  },
  {
   "cell_type": "code",
   "execution_count": 3,
   "id": "89d5aa0c-b67b-4f18-b1ce-2cc8a358cbf7",
   "metadata": {},
   "outputs": [
    {
     "name": "stdout",
     "output_type": "stream",
     "text": [
      "S: 237.45, K: 237.5, T: 0.119, r: 0.02, sigma: 0.419\n"
     ]
    }
   ],
   "source": [
    "print(f\"S: {S}, K: {K}, T: {T}, r: {r}, sigma: {sigma}\")"
   ]
  },
  {
   "cell_type": "code",
   "execution_count": 4,
   "id": "0ab0650c-0997-4470-b035-e78d37562066",
   "metadata": {
    "jupyter": {
     "source_hidden": true
    }
   },
   "outputs": [],
   "source": [
    "import numpy as np\n",
    "from scipy.stats import norm\n",
    "\n",
    "def black_scholes_numpy(S, K, T, r, sigma, option_type=\"call\"):\n",
    "    \"\"\" Computes Black-Scholes price and Greeks using NumPy/SciPy. \"\"\"\n",
    "\n",
    "    # Avoid division by zero\n",
    "    T = max(T, 1e-6)\n",
    "    sigma = max(sigma, 1e-6)\n",
    "\n",
    "    d1 = (np.log(S / K) + (r + 0.5 * sigma ** 2) * T) / (sigma * np.sqrt(T))\n",
    "    d2 = d1 - sigma * np.sqrt(T)\n",
    "\n",
    "    # Greeks\n",
    "    delta = norm.cdf(d1) if option_type == \"call\" else norm.cdf(d1) - 1\n",
    "    gamma = norm.pdf(d1) / (S * sigma * np.sqrt(T))\n",
    "    vega = S * np.sqrt(T) * norm.pdf(d1)\n",
    "\n",
    "    # Option Price\n",
    "    if option_type == \"call\":\n",
    "        price = S * norm.cdf(d1) - K * np.exp(-r * T) * norm.cdf(d2)\n",
    "    else:\n",
    "        price = K * np.exp(-r * T) * (1 - norm.cdf(d2)) - S * (1 - norm.cdf(d1))\n",
    "\n",
    "    return {\n",
    "        \"Price\": price,\n",
    "        \"Delta\": delta,\n",
    "        \"Gamma\": gamma,\n",
    "        \"Vega\": vega\n",
    "    }"
   ]
  },
  {
   "cell_type": "code",
   "execution_count": 5,
   "id": "9c6a65b2-0e40-4ddc-9f42-404cd4dce17a",
   "metadata": {
    "jupyter": {
     "source_hidden": true
    }
   },
   "outputs": [
    {
     "name": "stdout",
     "output_type": "stream",
     "text": [
      "\n",
      "🔹 Black–Scholes Model Benchmark Comparison\n",
      "Price: TensorFlow = 13.930534, SciPy = 13.930538\n",
      "Delta: TensorFlow = 0.534786, SciPy = 0.534786\n",
      "Gamma: TensorFlow = 0.011574, SciPy = 0.011574\n",
      "Vega: TensorFlow = 32.553711, SciPy = 32.553714\n"
     ]
    },
    {
     "ename": "KeyError",
     "evalue": "'Theta'",
     "output_type": "error",
     "traceback": [
      "\u001b[0;31m---------------------------------------------------------------------------\u001b[0m",
      "\u001b[0;31mKeyError\u001b[0m                                  Traceback (most recent call last)",
      "Cell \u001b[0;32mIn[5], line 18\u001b[0m\n\u001b[1;32m     16\u001b[0m \u001b[38;5;28mprint\u001b[39m(\u001b[38;5;124m\"\u001b[39m\u001b[38;5;130;01m\\n\u001b[39;00m\u001b[38;5;124m🔹 Black–Scholes Model Benchmark Comparison\u001b[39m\u001b[38;5;124m\"\u001b[39m)\n\u001b[1;32m     17\u001b[0m \u001b[38;5;28;01mfor\u001b[39;00m key \u001b[38;5;129;01min\u001b[39;00m tf_greeks\u001b[38;5;241m.\u001b[39mkeys():\n\u001b[0;32m---> 18\u001b[0m     \u001b[38;5;28mprint\u001b[39m(\u001b[38;5;124mf\u001b[39m\u001b[38;5;124m\"\u001b[39m\u001b[38;5;132;01m{\u001b[39;00mkey\u001b[38;5;132;01m}\u001b[39;00m\u001b[38;5;124m: TensorFlow = \u001b[39m\u001b[38;5;132;01m{\u001b[39;00mtf_greeks[key]\u001b[38;5;132;01m:\u001b[39;00m\u001b[38;5;124m.6f\u001b[39m\u001b[38;5;132;01m}\u001b[39;00m\u001b[38;5;124m, SciPy = \u001b[39m\u001b[38;5;132;01m{\u001b[39;00m\u001b[43mnp_greeks\u001b[49m\u001b[43m[\u001b[49m\u001b[43mkey\u001b[49m\u001b[43m]\u001b[49m\u001b[38;5;132;01m:\u001b[39;00m\u001b[38;5;124m.6f\u001b[39m\u001b[38;5;132;01m}\u001b[39;00m\u001b[38;5;124m\"\u001b[39m)\n",
      "\u001b[0;31mKeyError\u001b[0m: 'Theta'"
     ]
    }
   ],
   "source": [
    "# Test parameters (from your previous result)\n",
    "S = 237.4499969482422\n",
    "K = 237.5\n",
    "T = 0.119\n",
    "r = 0.02\n",
    "sigma = 0.41919526123046874\n",
    "option_type = \"call\"\n",
    "\n",
    "# Compute Greeks using TensorFlow\n",
    "tf_greeks = compute_greeks(S, K, T, r, sigma, option_type)\n",
    "\n",
    "# Compute Greeks using NumPy/SciPy\n",
    "np_greeks = black_scholes_numpy(S, K, T, r, sigma, option_type)\n",
    "\n",
    "# Print comparison\n",
    "print(\"\\n🔹 Black–Scholes Model Benchmark Comparison\")\n",
    "for key in tf_greeks.keys():\n",
    "    print(f\"{key}: TensorFlow = {tf_greeks[key]:.6f}, SciPy = {np_greeks[key]:.6f}\")"
   ]
  },
  {
   "cell_type": "markdown",
   "id": "cf46020d-f4b7-4545-918d-e9cd021de7b0",
   "metadata": {},
   "source": [
    "🔹 Interpretation of the Greeks\n",
    "Price: The Black-Scholes estimated option price.\n",
    "Delta (0.53): The option gains ~$0.53 for every $1 increase in stock price.\n",
    "Gamma (0.0116): Delta’s rate of change is small, which is expected for options close to at-the-money.\n",
    "Vega (32.55): The option’s sensitivity to volatility changes is high—a 1% increase in volatility changes the price by ~$32.55.\n",
    "Theta (-59.57): The option is losing ~$59.57 per day due to time decay (negative since it's an option).\n",
    "Rho (13.45): A 1% increase in interest rates raises the price by ~$13.45."
   ]
  }
 ],
 "metadata": {
  "kernelspec": {
   "display_name": "Python 3 (ipykernel)",
   "language": "python",
   "name": "python3"
  },
  "language_info": {
   "codemirror_mode": {
    "name": "ipython",
    "version": 3
   },
   "file_extension": ".py",
   "mimetype": "text/x-python",
   "name": "python",
   "nbconvert_exporter": "python",
   "pygments_lexer": "ipython3",
   "version": "3.12.1"
  }
 },
 "nbformat": 4,
 "nbformat_minor": 5
}
